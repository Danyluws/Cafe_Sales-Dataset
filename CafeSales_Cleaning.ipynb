{
 "cells": [
  {
   "cell_type": "code",
   "execution_count": 140,
   "id": "99293fc0-a47e-413c-837a-bf48c05855e9",
   "metadata": {},
   "outputs": [],
   "source": [
    "import pandas as pd"
   ]
  },
  {
   "cell_type": "code",
   "execution_count": 142,
   "id": "68f839ba-7603-466a-a44e-2a405ecdadae",
   "metadata": {},
   "outputs": [],
   "source": [
    "import warnings\n",
    "warnings.filterwarnings(\"ignore\")"
   ]
  },
  {
   "cell_type": "code",
   "execution_count": 144,
   "id": "47923a0a-cf14-429b-a0f0-094a71ff5397",
   "metadata": {},
   "outputs": [
    {
     "data": {
      "text/html": [
       "<div>\n",
       "<style scoped>\n",
       "    .dataframe tbody tr th:only-of-type {\n",
       "        vertical-align: middle;\n",
       "    }\n",
       "\n",
       "    .dataframe tbody tr th {\n",
       "        vertical-align: top;\n",
       "    }\n",
       "\n",
       "    .dataframe thead th {\n",
       "        text-align: right;\n",
       "    }\n",
       "</style>\n",
       "<table border=\"1\" class=\"dataframe\">\n",
       "  <thead>\n",
       "    <tr style=\"text-align: right;\">\n",
       "      <th></th>\n",
       "      <th>Transaction ID</th>\n",
       "      <th>Item</th>\n",
       "      <th>Quantity</th>\n",
       "      <th>Price Per Unit</th>\n",
       "      <th>Total Spent</th>\n",
       "      <th>Payment Method</th>\n",
       "      <th>Location</th>\n",
       "      <th>Transaction Date</th>\n",
       "    </tr>\n",
       "  </thead>\n",
       "  <tbody>\n",
       "    <tr>\n",
       "      <th>0</th>\n",
       "      <td>TXN_1961373</td>\n",
       "      <td>Coffee</td>\n",
       "      <td>2</td>\n",
       "      <td>2.0</td>\n",
       "      <td>4.0</td>\n",
       "      <td>Credit Card</td>\n",
       "      <td>Takeaway</td>\n",
       "      <td>2023-09-08</td>\n",
       "    </tr>\n",
       "    <tr>\n",
       "      <th>1</th>\n",
       "      <td>TXN_4977031</td>\n",
       "      <td>Cake</td>\n",
       "      <td>4</td>\n",
       "      <td>3.0</td>\n",
       "      <td>12.0</td>\n",
       "      <td>Cash</td>\n",
       "      <td>In-store</td>\n",
       "      <td>2023-05-16</td>\n",
       "    </tr>\n",
       "    <tr>\n",
       "      <th>2</th>\n",
       "      <td>TXN_4271903</td>\n",
       "      <td>Cookie</td>\n",
       "      <td>4</td>\n",
       "      <td>1.0</td>\n",
       "      <td>ERROR</td>\n",
       "      <td>Credit Card</td>\n",
       "      <td>In-store</td>\n",
       "      <td>2023-07-19</td>\n",
       "    </tr>\n",
       "    <tr>\n",
       "      <th>3</th>\n",
       "      <td>TXN_7034554</td>\n",
       "      <td>Salad</td>\n",
       "      <td>2</td>\n",
       "      <td>5.0</td>\n",
       "      <td>10.0</td>\n",
       "      <td>UNKNOWN</td>\n",
       "      <td>UNKNOWN</td>\n",
       "      <td>2023-04-27</td>\n",
       "    </tr>\n",
       "    <tr>\n",
       "      <th>4</th>\n",
       "      <td>TXN_3160411</td>\n",
       "      <td>Coffee</td>\n",
       "      <td>2</td>\n",
       "      <td>2.0</td>\n",
       "      <td>4.0</td>\n",
       "      <td>Digital Wallet</td>\n",
       "      <td>In-store</td>\n",
       "      <td>2023-06-11</td>\n",
       "    </tr>\n",
       "    <tr>\n",
       "      <th>...</th>\n",
       "      <td>...</td>\n",
       "      <td>...</td>\n",
       "      <td>...</td>\n",
       "      <td>...</td>\n",
       "      <td>...</td>\n",
       "      <td>...</td>\n",
       "      <td>...</td>\n",
       "      <td>...</td>\n",
       "    </tr>\n",
       "    <tr>\n",
       "      <th>9995</th>\n",
       "      <td>TXN_7672686</td>\n",
       "      <td>Coffee</td>\n",
       "      <td>2</td>\n",
       "      <td>2.0</td>\n",
       "      <td>4.0</td>\n",
       "      <td>NaN</td>\n",
       "      <td>UNKNOWN</td>\n",
       "      <td>2023-08-30</td>\n",
       "    </tr>\n",
       "    <tr>\n",
       "      <th>9996</th>\n",
       "      <td>TXN_9659401</td>\n",
       "      <td>NaN</td>\n",
       "      <td>3</td>\n",
       "      <td>NaN</td>\n",
       "      <td>3.0</td>\n",
       "      <td>Digital Wallet</td>\n",
       "      <td>NaN</td>\n",
       "      <td>2023-06-02</td>\n",
       "    </tr>\n",
       "    <tr>\n",
       "      <th>9997</th>\n",
       "      <td>TXN_5255387</td>\n",
       "      <td>Coffee</td>\n",
       "      <td>4</td>\n",
       "      <td>2.0</td>\n",
       "      <td>8.0</td>\n",
       "      <td>Digital Wallet</td>\n",
       "      <td>NaN</td>\n",
       "      <td>2023-03-02</td>\n",
       "    </tr>\n",
       "    <tr>\n",
       "      <th>9998</th>\n",
       "      <td>TXN_7695629</td>\n",
       "      <td>Cookie</td>\n",
       "      <td>3</td>\n",
       "      <td>NaN</td>\n",
       "      <td>3.0</td>\n",
       "      <td>Digital Wallet</td>\n",
       "      <td>NaN</td>\n",
       "      <td>2023-12-02</td>\n",
       "    </tr>\n",
       "    <tr>\n",
       "      <th>9999</th>\n",
       "      <td>TXN_6170729</td>\n",
       "      <td>Sandwich</td>\n",
       "      <td>3</td>\n",
       "      <td>4.0</td>\n",
       "      <td>12.0</td>\n",
       "      <td>Cash</td>\n",
       "      <td>In-store</td>\n",
       "      <td>2023-11-07</td>\n",
       "    </tr>\n",
       "  </tbody>\n",
       "</table>\n",
       "<p>10000 rows × 8 columns</p>\n",
       "</div>"
      ],
      "text/plain": [
       "     Transaction ID      Item Quantity Price Per Unit Total Spent  \\\n",
       "0       TXN_1961373    Coffee        2            2.0         4.0   \n",
       "1       TXN_4977031      Cake        4            3.0        12.0   \n",
       "2       TXN_4271903    Cookie        4            1.0       ERROR   \n",
       "3       TXN_7034554     Salad        2            5.0        10.0   \n",
       "4       TXN_3160411    Coffee        2            2.0         4.0   \n",
       "...             ...       ...      ...            ...         ...   \n",
       "9995    TXN_7672686    Coffee        2            2.0         4.0   \n",
       "9996    TXN_9659401       NaN        3            NaN         3.0   \n",
       "9997    TXN_5255387    Coffee        4            2.0         8.0   \n",
       "9998    TXN_7695629    Cookie        3            NaN         3.0   \n",
       "9999    TXN_6170729  Sandwich        3            4.0        12.0   \n",
       "\n",
       "      Payment Method  Location Transaction Date  \n",
       "0        Credit Card  Takeaway       2023-09-08  \n",
       "1               Cash  In-store       2023-05-16  \n",
       "2        Credit Card  In-store       2023-07-19  \n",
       "3            UNKNOWN   UNKNOWN       2023-04-27  \n",
       "4     Digital Wallet  In-store       2023-06-11  \n",
       "...              ...       ...              ...  \n",
       "9995             NaN   UNKNOWN       2023-08-30  \n",
       "9996  Digital Wallet       NaN       2023-06-02  \n",
       "9997  Digital Wallet       NaN       2023-03-02  \n",
       "9998  Digital Wallet       NaN       2023-12-02  \n",
       "9999            Cash  In-store       2023-11-07  \n",
       "\n",
       "[10000 rows x 8 columns]"
      ]
     },
     "execution_count": 144,
     "metadata": {},
     "output_type": "execute_result"
    }
   ],
   "source": [
    "Dirty_cafe_sales = pd.read_csv(\"C:/Users/omota/Desktop/Data Science Jobs/Datasets/dirty_cafe_sales.csv\")\n",
    "\n",
    "Dirty_cafe_sales"
   ]
  },
  {
   "cell_type": "code",
   "execution_count": 146,
   "id": "276f232a-de8b-47f9-9a21-e4a04769fbf6",
   "metadata": {},
   "outputs": [
    {
     "data": {
      "text/html": [
       "<div>\n",
       "<style scoped>\n",
       "    .dataframe tbody tr th:only-of-type {\n",
       "        vertical-align: middle;\n",
       "    }\n",
       "\n",
       "    .dataframe tbody tr th {\n",
       "        vertical-align: top;\n",
       "    }\n",
       "\n",
       "    .dataframe thead th {\n",
       "        text-align: right;\n",
       "    }\n",
       "</style>\n",
       "<table border=\"1\" class=\"dataframe\">\n",
       "  <thead>\n",
       "    <tr style=\"text-align: right;\">\n",
       "      <th></th>\n",
       "      <th>Transaction ID</th>\n",
       "      <th>Item</th>\n",
       "      <th>Quantity</th>\n",
       "      <th>Price Per Unit</th>\n",
       "      <th>Total Spent</th>\n",
       "      <th>Payment Method</th>\n",
       "      <th>Location</th>\n",
       "      <th>Transaction Date</th>\n",
       "    </tr>\n",
       "  </thead>\n",
       "  <tbody>\n",
       "    <tr>\n",
       "      <th>count</th>\n",
       "      <td>10000</td>\n",
       "      <td>9667</td>\n",
       "      <td>9862</td>\n",
       "      <td>9821</td>\n",
       "      <td>9827</td>\n",
       "      <td>7421</td>\n",
       "      <td>6735</td>\n",
       "      <td>9841</td>\n",
       "    </tr>\n",
       "    <tr>\n",
       "      <th>unique</th>\n",
       "      <td>10000</td>\n",
       "      <td>10</td>\n",
       "      <td>7</td>\n",
       "      <td>8</td>\n",
       "      <td>19</td>\n",
       "      <td>5</td>\n",
       "      <td>4</td>\n",
       "      <td>367</td>\n",
       "    </tr>\n",
       "    <tr>\n",
       "      <th>top</th>\n",
       "      <td>TXN_1961373</td>\n",
       "      <td>Juice</td>\n",
       "      <td>5</td>\n",
       "      <td>3.0</td>\n",
       "      <td>6.0</td>\n",
       "      <td>Digital Wallet</td>\n",
       "      <td>Takeaway</td>\n",
       "      <td>UNKNOWN</td>\n",
       "    </tr>\n",
       "    <tr>\n",
       "      <th>freq</th>\n",
       "      <td>1</td>\n",
       "      <td>1171</td>\n",
       "      <td>2013</td>\n",
       "      <td>2429</td>\n",
       "      <td>979</td>\n",
       "      <td>2291</td>\n",
       "      <td>3022</td>\n",
       "      <td>159</td>\n",
       "    </tr>\n",
       "  </tbody>\n",
       "</table>\n",
       "</div>"
      ],
      "text/plain": [
       "       Transaction ID   Item Quantity Price Per Unit Total Spent  \\\n",
       "count           10000   9667     9862           9821        9827   \n",
       "unique          10000     10        7              8          19   \n",
       "top       TXN_1961373  Juice        5            3.0         6.0   \n",
       "freq                1   1171     2013           2429         979   \n",
       "\n",
       "        Payment Method  Location Transaction Date  \n",
       "count             7421      6735             9841  \n",
       "unique               5         4              367  \n",
       "top     Digital Wallet  Takeaway          UNKNOWN  \n",
       "freq              2291      3022              159  "
      ]
     },
     "execution_count": 146,
     "metadata": {},
     "output_type": "execute_result"
    }
   ],
   "source": [
    "Dirty_cafe_sales.describe()"
   ]
  },
  {
   "cell_type": "code",
   "execution_count": 147,
   "id": "94bcc6a3-7650-45f3-b9e0-c2d726d9bc07",
   "metadata": {},
   "outputs": [
    {
     "name": "stdout",
     "output_type": "stream",
     "text": [
      "<class 'pandas.core.frame.DataFrame'>\n",
      "RangeIndex: 10000 entries, 0 to 9999\n",
      "Data columns (total 8 columns):\n",
      " #   Column            Non-Null Count  Dtype \n",
      "---  ------            --------------  ----- \n",
      " 0   Transaction ID    10000 non-null  object\n",
      " 1   Item              9667 non-null   object\n",
      " 2   Quantity          9862 non-null   object\n",
      " 3   Price Per Unit    9821 non-null   object\n",
      " 4   Total Spent       9827 non-null   object\n",
      " 5   Payment Method    7421 non-null   object\n",
      " 6   Location          6735 non-null   object\n",
      " 7   Transaction Date  9841 non-null   object\n",
      "dtypes: object(8)\n",
      "memory usage: 625.1+ KB\n"
     ]
    }
   ],
   "source": [
    "Dirty_cafe_sales.info()\n",
    "\n",
    "#From the below info, it can be said that of 10000 items, \"items\" has 9667 non-null values meaning that about 400 values are null.\n",
    "#this applies to other returned columnms"
   ]
  },
  {
   "cell_type": "code",
   "execution_count": 148,
   "id": "89597819-9355-4ae0-b865-3ce51694c170",
   "metadata": {},
   "outputs": [
    {
     "data": {
      "text/html": [
       "<div>\n",
       "<style scoped>\n",
       "    .dataframe tbody tr th:only-of-type {\n",
       "        vertical-align: middle;\n",
       "    }\n",
       "\n",
       "    .dataframe tbody tr th {\n",
       "        vertical-align: top;\n",
       "    }\n",
       "\n",
       "    .dataframe thead th {\n",
       "        text-align: right;\n",
       "    }\n",
       "</style>\n",
       "<table border=\"1\" class=\"dataframe\">\n",
       "  <thead>\n",
       "    <tr style=\"text-align: right;\">\n",
       "      <th></th>\n",
       "      <th>Transaction ID</th>\n",
       "      <th>Item</th>\n",
       "      <th>Quantity</th>\n",
       "      <th>Price Per Unit</th>\n",
       "      <th>Total Spent</th>\n",
       "      <th>Payment Method</th>\n",
       "      <th>Location</th>\n",
       "      <th>Transaction Date</th>\n",
       "    </tr>\n",
       "  </thead>\n",
       "  <tbody>\n",
       "    <tr>\n",
       "      <th>0</th>\n",
       "      <td>TXN_1961373</td>\n",
       "      <td>Coffee</td>\n",
       "      <td>2</td>\n",
       "      <td>2.0</td>\n",
       "      <td>4.0</td>\n",
       "      <td>Credit Card</td>\n",
       "      <td>Takeaway</td>\n",
       "      <td>2023-09-08</td>\n",
       "    </tr>\n",
       "    <tr>\n",
       "      <th>1</th>\n",
       "      <td>TXN_4977031</td>\n",
       "      <td>Cake</td>\n",
       "      <td>4</td>\n",
       "      <td>3.0</td>\n",
       "      <td>12.0</td>\n",
       "      <td>Cash</td>\n",
       "      <td>In-store</td>\n",
       "      <td>2023-05-16</td>\n",
       "    </tr>\n",
       "    <tr>\n",
       "      <th>2</th>\n",
       "      <td>TXN_4271903</td>\n",
       "      <td>Cookie</td>\n",
       "      <td>4</td>\n",
       "      <td>1.0</td>\n",
       "      <td>ERROR</td>\n",
       "      <td>Credit Card</td>\n",
       "      <td>In-store</td>\n",
       "      <td>2023-07-19</td>\n",
       "    </tr>\n",
       "    <tr>\n",
       "      <th>3</th>\n",
       "      <td>TXN_7034554</td>\n",
       "      <td>Salad</td>\n",
       "      <td>2</td>\n",
       "      <td>5.0</td>\n",
       "      <td>10.0</td>\n",
       "      <td>UNKNOWN</td>\n",
       "      <td>UNKNOWN</td>\n",
       "      <td>2023-04-27</td>\n",
       "    </tr>\n",
       "    <tr>\n",
       "      <th>4</th>\n",
       "      <td>TXN_3160411</td>\n",
       "      <td>Coffee</td>\n",
       "      <td>2</td>\n",
       "      <td>2.0</td>\n",
       "      <td>4.0</td>\n",
       "      <td>Digital Wallet</td>\n",
       "      <td>In-store</td>\n",
       "      <td>2023-06-11</td>\n",
       "    </tr>\n",
       "    <tr>\n",
       "      <th>5</th>\n",
       "      <td>TXN_2602893</td>\n",
       "      <td>Smoothie</td>\n",
       "      <td>5</td>\n",
       "      <td>4.0</td>\n",
       "      <td>20.0</td>\n",
       "      <td>Credit Card</td>\n",
       "      <td>NaN</td>\n",
       "      <td>2023-03-31</td>\n",
       "    </tr>\n",
       "    <tr>\n",
       "      <th>6</th>\n",
       "      <td>TXN_4433211</td>\n",
       "      <td>UNKNOWN</td>\n",
       "      <td>3</td>\n",
       "      <td>3.0</td>\n",
       "      <td>9.0</td>\n",
       "      <td>ERROR</td>\n",
       "      <td>Takeaway</td>\n",
       "      <td>2023-10-06</td>\n",
       "    </tr>\n",
       "    <tr>\n",
       "      <th>7</th>\n",
       "      <td>TXN_6699534</td>\n",
       "      <td>Sandwich</td>\n",
       "      <td>4</td>\n",
       "      <td>4.0</td>\n",
       "      <td>16.0</td>\n",
       "      <td>Cash</td>\n",
       "      <td>UNKNOWN</td>\n",
       "      <td>2023-10-28</td>\n",
       "    </tr>\n",
       "    <tr>\n",
       "      <th>8</th>\n",
       "      <td>TXN_4717867</td>\n",
       "      <td>NaN</td>\n",
       "      <td>5</td>\n",
       "      <td>3.0</td>\n",
       "      <td>15.0</td>\n",
       "      <td>NaN</td>\n",
       "      <td>Takeaway</td>\n",
       "      <td>2023-07-28</td>\n",
       "    </tr>\n",
       "    <tr>\n",
       "      <th>9</th>\n",
       "      <td>TXN_2064365</td>\n",
       "      <td>Sandwich</td>\n",
       "      <td>5</td>\n",
       "      <td>4.0</td>\n",
       "      <td>20.0</td>\n",
       "      <td>NaN</td>\n",
       "      <td>In-store</td>\n",
       "      <td>2023-12-31</td>\n",
       "    </tr>\n",
       "    <tr>\n",
       "      <th>10</th>\n",
       "      <td>TXN_2548360</td>\n",
       "      <td>Salad</td>\n",
       "      <td>5</td>\n",
       "      <td>5.0</td>\n",
       "      <td>25.0</td>\n",
       "      <td>Cash</td>\n",
       "      <td>Takeaway</td>\n",
       "      <td>2023-11-07</td>\n",
       "    </tr>\n",
       "    <tr>\n",
       "      <th>11</th>\n",
       "      <td>TXN_3051279</td>\n",
       "      <td>Sandwich</td>\n",
       "      <td>2</td>\n",
       "      <td>4.0</td>\n",
       "      <td>8.0</td>\n",
       "      <td>Credit Card</td>\n",
       "      <td>Takeaway</td>\n",
       "      <td>ERROR</td>\n",
       "    </tr>\n",
       "    <tr>\n",
       "      <th>12</th>\n",
       "      <td>TXN_7619095</td>\n",
       "      <td>Sandwich</td>\n",
       "      <td>2</td>\n",
       "      <td>4.0</td>\n",
       "      <td>8.0</td>\n",
       "      <td>Cash</td>\n",
       "      <td>In-store</td>\n",
       "      <td>2023-05-03</td>\n",
       "    </tr>\n",
       "    <tr>\n",
       "      <th>13</th>\n",
       "      <td>TXN_9437049</td>\n",
       "      <td>Cookie</td>\n",
       "      <td>5</td>\n",
       "      <td>1.0</td>\n",
       "      <td>5.0</td>\n",
       "      <td>NaN</td>\n",
       "      <td>Takeaway</td>\n",
       "      <td>2023-06-01</td>\n",
       "    </tr>\n",
       "    <tr>\n",
       "      <th>14</th>\n",
       "      <td>TXN_8915701</td>\n",
       "      <td>ERROR</td>\n",
       "      <td>2</td>\n",
       "      <td>1.5</td>\n",
       "      <td>3.0</td>\n",
       "      <td>NaN</td>\n",
       "      <td>In-store</td>\n",
       "      <td>2023-03-21</td>\n",
       "    </tr>\n",
       "    <tr>\n",
       "      <th>15</th>\n",
       "      <td>TXN_2847255</td>\n",
       "      <td>Salad</td>\n",
       "      <td>3</td>\n",
       "      <td>5.0</td>\n",
       "      <td>15.0</td>\n",
       "      <td>Credit Card</td>\n",
       "      <td>In-store</td>\n",
       "      <td>2023-11-15</td>\n",
       "    </tr>\n",
       "    <tr>\n",
       "      <th>16</th>\n",
       "      <td>TXN_3765707</td>\n",
       "      <td>Sandwich</td>\n",
       "      <td>1</td>\n",
       "      <td>4.0</td>\n",
       "      <td>4.0</td>\n",
       "      <td>NaN</td>\n",
       "      <td>NaN</td>\n",
       "      <td>2023-06-10</td>\n",
       "    </tr>\n",
       "    <tr>\n",
       "      <th>17</th>\n",
       "      <td>TXN_6769710</td>\n",
       "      <td>Juice</td>\n",
       "      <td>2</td>\n",
       "      <td>3.0</td>\n",
       "      <td>6.0</td>\n",
       "      <td>Cash</td>\n",
       "      <td>In-store</td>\n",
       "      <td>2023-02-24</td>\n",
       "    </tr>\n",
       "    <tr>\n",
       "      <th>18</th>\n",
       "      <td>TXN_8876618</td>\n",
       "      <td>Cake</td>\n",
       "      <td>5</td>\n",
       "      <td>3.0</td>\n",
       "      <td>15.0</td>\n",
       "      <td>Cash</td>\n",
       "      <td>ERROR</td>\n",
       "      <td>2023-03-25</td>\n",
       "    </tr>\n",
       "    <tr>\n",
       "      <th>19</th>\n",
       "      <td>TXN_3709394</td>\n",
       "      <td>Juice</td>\n",
       "      <td>4</td>\n",
       "      <td>3.0</td>\n",
       "      <td>12.0</td>\n",
       "      <td>Cash</td>\n",
       "      <td>Takeaway</td>\n",
       "      <td>2023-01-15</td>\n",
       "    </tr>\n",
       "  </tbody>\n",
       "</table>\n",
       "</div>"
      ],
      "text/plain": [
       "   Transaction ID      Item Quantity Price Per Unit Total Spent  \\\n",
       "0     TXN_1961373    Coffee        2            2.0         4.0   \n",
       "1     TXN_4977031      Cake        4            3.0        12.0   \n",
       "2     TXN_4271903    Cookie        4            1.0       ERROR   \n",
       "3     TXN_7034554     Salad        2            5.0        10.0   \n",
       "4     TXN_3160411    Coffee        2            2.0         4.0   \n",
       "5     TXN_2602893  Smoothie        5            4.0        20.0   \n",
       "6     TXN_4433211   UNKNOWN        3            3.0         9.0   \n",
       "7     TXN_6699534  Sandwich        4            4.0        16.0   \n",
       "8     TXN_4717867       NaN        5            3.0        15.0   \n",
       "9     TXN_2064365  Sandwich        5            4.0        20.0   \n",
       "10    TXN_2548360     Salad        5            5.0        25.0   \n",
       "11    TXN_3051279  Sandwich        2            4.0         8.0   \n",
       "12    TXN_7619095  Sandwich        2            4.0         8.0   \n",
       "13    TXN_9437049    Cookie        5            1.0         5.0   \n",
       "14    TXN_8915701     ERROR        2            1.5         3.0   \n",
       "15    TXN_2847255     Salad        3            5.0        15.0   \n",
       "16    TXN_3765707  Sandwich        1            4.0         4.0   \n",
       "17    TXN_6769710     Juice        2            3.0         6.0   \n",
       "18    TXN_8876618      Cake        5            3.0        15.0   \n",
       "19    TXN_3709394     Juice        4            3.0        12.0   \n",
       "\n",
       "    Payment Method  Location Transaction Date  \n",
       "0      Credit Card  Takeaway       2023-09-08  \n",
       "1             Cash  In-store       2023-05-16  \n",
       "2      Credit Card  In-store       2023-07-19  \n",
       "3          UNKNOWN   UNKNOWN       2023-04-27  \n",
       "4   Digital Wallet  In-store       2023-06-11  \n",
       "5      Credit Card       NaN       2023-03-31  \n",
       "6            ERROR  Takeaway       2023-10-06  \n",
       "7             Cash   UNKNOWN       2023-10-28  \n",
       "8              NaN  Takeaway       2023-07-28  \n",
       "9              NaN  In-store       2023-12-31  \n",
       "10            Cash  Takeaway       2023-11-07  \n",
       "11     Credit Card  Takeaway            ERROR  \n",
       "12            Cash  In-store       2023-05-03  \n",
       "13             NaN  Takeaway       2023-06-01  \n",
       "14             NaN  In-store       2023-03-21  \n",
       "15     Credit Card  In-store       2023-11-15  \n",
       "16             NaN       NaN       2023-06-10  \n",
       "17            Cash  In-store       2023-02-24  \n",
       "18            Cash     ERROR       2023-03-25  \n",
       "19            Cash  Takeaway       2023-01-15  "
      ]
     },
     "execution_count": 148,
     "metadata": {},
     "output_type": "execute_result"
    }
   ],
   "source": [
    "Dirty_cafe_sales.head(20)"
   ]
  },
  {
   "cell_type": "code",
   "execution_count": 149,
   "id": "03c9ea55-6abd-440b-b45c-48a6571573d0",
   "metadata": {},
   "outputs": [
    {
     "data": {
      "text/plain": [
       "Transaction ID         0\n",
       "Item                 333\n",
       "Quantity             138\n",
       "Price Per Unit       179\n",
       "Total Spent          173\n",
       "Payment Method      2579\n",
       "Location            3265\n",
       "Transaction Date     159\n",
       "dtype: int64"
      ]
     },
     "execution_count": 149,
     "metadata": {},
     "output_type": "execute_result"
    }
   ],
   "source": [
    "Dirty_cafe_sales.isna().sum()\n",
    "#this shows the amt of null values in each column "
   ]
  },
  {
   "cell_type": "code",
   "execution_count": 154,
   "id": "40084018-42d5-431f-9820-3ff2282f33c5",
   "metadata": {},
   "outputs": [],
   "source": [
    "#This replaces all the unknown and error values with null\n",
    "\n",
    "Dirty_cafe_sales[\"Transaction Date\"] = Dirty_cafe_sales[\"Transaction Date\"].replace([\"UNKNOWN\", \"ERROR\"], pd.NA)"
   ]
  },
  {
   "cell_type": "code",
   "execution_count": 155,
   "id": "345eca7d-e230-4144-8df5-1c9cf98a1cd5",
   "metadata": {},
   "outputs": [
    {
     "data": {
      "text/plain": [
       "Transaction ID         0\n",
       "Item                 333\n",
       "Quantity             138\n",
       "Price Per Unit       179\n",
       "Total Spent          173\n",
       "Payment Method      2579\n",
       "Location            3265\n",
       "Transaction Date     460\n",
       "dtype: int64"
      ]
     },
     "execution_count": 155,
     "metadata": {},
     "output_type": "execute_result"
    }
   ],
   "source": [
    "Dirty_cafe_sales.isna().sum()"
   ]
  },
  {
   "cell_type": "code",
   "execution_count": 156,
   "id": "5858cbfc-e7ef-47c4-84ae-9b3360f1b391",
   "metadata": {},
   "outputs": [],
   "source": [
    "#Now, this deletes all null entries in the dataset\n",
    "\n",
    "Dirty_cafe_sales = Dirty_cafe_sales.dropna(subset=[\"Transaction Date\"])"
   ]
  },
  {
   "cell_type": "code",
   "execution_count": 157,
   "id": "d65c4612-2230-42c9-a871-347825c0ff84",
   "metadata": {},
   "outputs": [
    {
     "data": {
      "text/plain": [
       "Transaction ID         0\n",
       "Item                 315\n",
       "Quantity             135\n",
       "Price Per Unit       165\n",
       "Total Spent          157\n",
       "Payment Method      2439\n",
       "Location            3118\n",
       "Transaction Date       0\n",
       "dtype: int64"
      ]
     },
     "execution_count": 157,
     "metadata": {},
     "output_type": "execute_result"
    }
   ],
   "source": [
    "Dirty_cafe_sales.isna().sum()"
   ]
  },
  {
   "cell_type": "code",
   "execution_count": 160,
   "id": "7e01d927-4ccd-4eaa-a784-c3d74310987a",
   "metadata": {},
   "outputs": [],
   "source": [
    "#sinc ethe date value in the dataset came as an object datatype, it has to be converted to datatime datatype.Thus;\n",
    "\n",
    "Dirty_cafe_sales[\"Transaction Date\"] = pd. to_datetime(Dirty_cafe_sales[\"Transaction Date\"])"
   ]
  },
  {
   "cell_type": "code",
   "execution_count": 163,
   "id": "6837802d-39f4-4755-9282-d44f7fcc8459",
   "metadata": {},
   "outputs": [
    {
     "name": "stdout",
     "output_type": "stream",
     "text": [
      "<class 'pandas.core.frame.DataFrame'>\n",
      "Index: 9540 entries, 0 to 9999\n",
      "Data columns (total 8 columns):\n",
      " #   Column            Non-Null Count  Dtype         \n",
      "---  ------            --------------  -----         \n",
      " 0   Transaction ID    9540 non-null   object        \n",
      " 1   Item              9225 non-null   object        \n",
      " 2   Quantity          9405 non-null   object        \n",
      " 3   Price Per Unit    9375 non-null   object        \n",
      " 4   Total Spent       9383 non-null   object        \n",
      " 5   Payment Method    7101 non-null   object        \n",
      " 6   Location          6422 non-null   object        \n",
      " 7   Transaction Date  9540 non-null   datetime64[ns]\n",
      "dtypes: datetime64[ns](1), object(7)\n",
      "memory usage: 670.8+ KB\n"
     ]
    }
   ],
   "source": [
    "Dirty_cafe_sales.info()\n",
    "\n",
    "#The Transaction date is now in \"datatime64[ns]\""
   ]
  },
  {
   "cell_type": "markdown",
   "id": "cef74d6d-a8e0-4fa1-8e4b-715c003a40e4",
   "metadata": {},
   "source": [
    "#### Resolving the null, error values in the Item column"
   ]
  },
  {
   "cell_type": "code",
   "execution_count": 166,
   "id": "3da60f75-ee16-49c6-ba36-c2102110e500",
   "metadata": {},
   "outputs": [
    {
     "data": {
      "text/plain": [
       "Item\n",
       "Juice       1124\n",
       "Coffee      1123\n",
       "Salad       1099\n",
       "Cake        1082\n",
       "Sandwich    1075\n",
       "Smoothie    1048\n",
       "Cookie      1035\n",
       "Tea         1027\n",
       "UNKNOWN      329\n",
       "ERROR        283\n",
       "Name: count, dtype: int64"
      ]
     },
     "execution_count": 166,
     "metadata": {},
     "output_type": "execute_result"
    }
   ],
   "source": [
    "Dirty_cafe_sales[\"Item\"].value_counts()"
   ]
  },
  {
   "cell_type": "raw",
   "id": "2d1bdeb1-367a-4e41-86f0-faded0223564",
   "metadata": {},
   "source": [
    "From the info returned above, the error value is 283. \n",
    "Since item names can still be overlooked compared to the datevalues. Thus, we can just rename the error values with \"unknown\""
   ]
  },
  {
   "cell_type": "code",
   "execution_count": 169,
   "id": "4f62481b-9965-435e-a50d-df7887fac466",
   "metadata": {},
   "outputs": [],
   "source": [
    "Dirty_cafe_sales[\"Item\"] = Dirty_cafe_sales[\"Item\"].replace({\"ERROR\":\"UNKNOWN\"})"
   ]
  },
  {
   "cell_type": "code",
   "execution_count": 171,
   "id": "f251f457-f1e9-4ac0-a8b9-1c27f93320a2",
   "metadata": {},
   "outputs": [
    {
     "data": {
      "text/plain": [
       "Item\n",
       "Juice       1124\n",
       "Coffee      1123\n",
       "Salad       1099\n",
       "Cake        1082\n",
       "Sandwich    1075\n",
       "Smoothie    1048\n",
       "Cookie      1035\n",
       "Tea         1027\n",
       "UNKNOWN      612\n",
       "Name: count, dtype: int64"
      ]
     },
     "execution_count": 171,
     "metadata": {},
     "output_type": "execute_result"
    }
   ],
   "source": [
    "Dirty_cafe_sales[\"Item\"].value_counts()"
   ]
  },
  {
   "cell_type": "code",
   "execution_count": 173,
   "id": "68ff9f19-aa79-4dbf-8517-a7a81241db5e",
   "metadata": {},
   "outputs": [
    {
     "data": {
      "text/plain": [
       "Transaction ID         0\n",
       "Item                 315\n",
       "Quantity             135\n",
       "Price Per Unit       165\n",
       "Total Spent          157\n",
       "Payment Method      2439\n",
       "Location            3118\n",
       "Transaction Date       0\n",
       "dtype: int64"
      ]
     },
     "execution_count": 173,
     "metadata": {},
     "output_type": "execute_result"
    }
   ],
   "source": [
    "Dirty_cafe_sales.isna().sum()\n",
    "\n",
    "#There are still item values that are null, we can replace them with \"UNKNOWN\" too"
   ]
  },
  {
   "cell_type": "code",
   "execution_count": 175,
   "id": "00821ec9-c17e-4c7d-88a1-6b35e7ec64fd",
   "metadata": {},
   "outputs": [],
   "source": [
    "Dirty_cafe_sales[\"Item\"] = Dirty_cafe_sales[\"Item\"].fillna(\"UNKNOWN\")"
   ]
  },
  {
   "cell_type": "code",
   "execution_count": 177,
   "id": "e4a58a53-f5c3-462c-9c24-60eff3ff4b5b",
   "metadata": {},
   "outputs": [
    {
     "data": {
      "text/plain": [
       "Transaction ID         0\n",
       "Item                   0\n",
       "Quantity             135\n",
       "Price Per Unit       165\n",
       "Total Spent          157\n",
       "Payment Method      2439\n",
       "Location            3118\n",
       "Transaction Date       0\n",
       "dtype: int64"
      ]
     },
     "execution_count": 177,
     "metadata": {},
     "output_type": "execute_result"
    }
   ],
   "source": [
    "Dirty_cafe_sales.isna().sum()\n",
    "\n",
    "#From here, we can see that the null values for items is now zero i.e no null vales anymore. WE CAN PROCEED!"
   ]
  },
  {
   "cell_type": "code",
   "execution_count": 179,
   "id": "f444b09d-e56f-4b6f-8bf6-d4fb2313b0de",
   "metadata": {},
   "outputs": [
    {
     "name": "stdout",
     "output_type": "stream",
     "text": [
      "<class 'pandas.core.frame.DataFrame'>\n",
      "Index: 9540 entries, 0 to 9999\n",
      "Data columns (total 8 columns):\n",
      " #   Column            Non-Null Count  Dtype         \n",
      "---  ------            --------------  -----         \n",
      " 0   Transaction ID    9540 non-null   object        \n",
      " 1   Item              9540 non-null   object        \n",
      " 2   Quantity          9405 non-null   object        \n",
      " 3   Price Per Unit    9375 non-null   object        \n",
      " 4   Total Spent       9383 non-null   object        \n",
      " 5   Payment Method    7101 non-null   object        \n",
      " 6   Location          6422 non-null   object        \n",
      " 7   Transaction Date  9540 non-null   datetime64[ns]\n",
      "dtypes: datetime64[ns](1), object(7)\n",
      "memory usage: 670.8+ KB\n"
     ]
    }
   ],
   "source": [
    "Dirty_cafe_sales.info()\n"
   ]
  },
  {
   "cell_type": "markdown",
   "id": "49817756-dda8-41a4-ba55-ab983b80f7a0",
   "metadata": {},
   "source": [
    "#### Resolving the null, error values in the Payment Method column"
   ]
  },
  {
   "cell_type": "code",
   "execution_count": 182,
   "id": "e49fc427-0499-4fad-ba76-9b47c6b03c37",
   "metadata": {},
   "outputs": [
    {
     "data": {
      "text/plain": [
       "Payment Method\n",
       "Digital Wallet    2197\n",
       "Credit Card       2170\n",
       "Cash              2158\n",
       "ERROR              296\n",
       "UNKNOWN            280\n",
       "Name: count, dtype: int64"
      ]
     },
     "execution_count": 182,
     "metadata": {},
     "output_type": "execute_result"
    }
   ],
   "source": [
    "Dirty_cafe_sales[\"Payment Method\"].value_counts()"
   ]
  },
  {
   "cell_type": "code",
   "execution_count": 184,
   "id": "179783d1-672d-47b4-a2a2-1bae29ed1c81",
   "metadata": {},
   "outputs": [],
   "source": [
    "# Replacing the \"errors\" with \"unknown\" values\n",
    "\n",
    "Dirty_cafe_sales[\"Payment Method\"] = Dirty_cafe_sales[\"Payment Method\"].replace({\"ERROR\":\"UNKNOWN\"})"
   ]
  },
  {
   "cell_type": "code",
   "execution_count": 186,
   "id": "32d9caa4-753a-47c2-bf4a-cc749ee434e7",
   "metadata": {},
   "outputs": [
    {
     "data": {
      "text/plain": [
       "Payment Method\n",
       "Digital Wallet    2197\n",
       "Credit Card       2170\n",
       "Cash              2158\n",
       "UNKNOWN            576\n",
       "Name: count, dtype: int64"
      ]
     },
     "execution_count": 186,
     "metadata": {},
     "output_type": "execute_result"
    }
   ],
   "source": [
    "Dirty_cafe_sales[\"Payment Method\"].value_counts()"
   ]
  },
  {
   "cell_type": "code",
   "execution_count": 188,
   "id": "2cee5ea8-ef08-42f3-8bb9-30c7879627e4",
   "metadata": {},
   "outputs": [
    {
     "data": {
      "text/plain": [
       "Transaction ID         0\n",
       "Item                   0\n",
       "Quantity             135\n",
       "Price Per Unit       165\n",
       "Total Spent          157\n",
       "Payment Method      2439\n",
       "Location            3118\n",
       "Transaction Date       0\n",
       "dtype: int64"
      ]
     },
     "execution_count": 188,
     "metadata": {},
     "output_type": "execute_result"
    }
   ],
   "source": [
    "Dirty_cafe_sales.isna().sum()"
   ]
  },
  {
   "cell_type": "code",
   "execution_count": 190,
   "id": "118e4fe8-e2a0-4658-a9e7-5b91f532702c",
   "metadata": {},
   "outputs": [],
   "source": [
    "Dirty_cafe_sales[\"Payment Method\"] = Dirty_cafe_sales[\"Payment Method\"].fillna(\"UNKNOWN\")"
   ]
  },
  {
   "cell_type": "code",
   "execution_count": 192,
   "id": "32bf2847-f487-4bc9-bf1f-024a8c48b3b6",
   "metadata": {},
   "outputs": [
    {
     "data": {
      "text/plain": [
       "Transaction ID         0\n",
       "Item                   0\n",
       "Quantity             135\n",
       "Price Per Unit       165\n",
       "Total Spent          157\n",
       "Payment Method         0\n",
       "Location            3118\n",
       "Transaction Date       0\n",
       "dtype: int64"
      ]
     },
     "execution_count": 192,
     "metadata": {},
     "output_type": "execute_result"
    }
   ],
   "source": [
    "Dirty_cafe_sales.isna().sum()"
   ]
  },
  {
   "cell_type": "markdown",
   "id": "f69707ab-8e60-4c2b-81b2-7378cac4d846",
   "metadata": {},
   "source": [
    "#### Resolving the null, error values in the Location column"
   ]
  },
  {
   "cell_type": "code",
   "execution_count": 195,
   "id": "57704dc3-52e1-42bc-85b4-aa91c0db5d68",
   "metadata": {},
   "outputs": [
    {
     "data": {
      "text/plain": [
       "Location\n",
       "Takeaway    2889\n",
       "In-store    2872\n",
       "ERROR        341\n",
       "UNKNOWN      320\n",
       "Name: count, dtype: int64"
      ]
     },
     "execution_count": 195,
     "metadata": {},
     "output_type": "execute_result"
    }
   ],
   "source": [
    "Dirty_cafe_sales[\"Location\"].value_counts()"
   ]
  },
  {
   "cell_type": "code",
   "execution_count": 197,
   "id": "d8aadc50-ff91-4019-9c04-588b31ce24cb",
   "metadata": {},
   "outputs": [],
   "source": [
    "#Replacing all errors with unknown\n",
    "\n",
    "Dirty_cafe_sales[\"Location\"] = Dirty_cafe_sales[\"Location\"].replace({\"ERROR\":\"UNKNOWN\"})"
   ]
  },
  {
   "cell_type": "code",
   "execution_count": 199,
   "id": "9fd25096-395c-43c8-8119-eced36db8dd7",
   "metadata": {},
   "outputs": [],
   "source": [
    "#filling all null values with unknown\n",
    "\n",
    "Dirty_cafe_sales[\"Location\"] = Dirty_cafe_sales[\"Location\"].fillna(\"UNKNOWN\")"
   ]
  },
  {
   "cell_type": "markdown",
   "id": "0674ca88-4f17-4cf6-a534-d64223bfe96c",
   "metadata": {},
   "source": [
    "#### Resolving the null, error values in the Numerical columns eg Quantity, Price per unit etc"
   ]
  },
  {
   "cell_type": "code",
   "execution_count": 202,
   "id": "e0b80f2c-848d-4d5d-8f18-b8f646ea97a4",
   "metadata": {},
   "outputs": [
    {
     "data": {
      "text/plain": [
       "Transaction ID        0\n",
       "Item                  0\n",
       "Quantity            135\n",
       "Price Per Unit      165\n",
       "Total Spent         157\n",
       "Payment Method        0\n",
       "Location              0\n",
       "Transaction Date      0\n",
       "dtype: int64"
      ]
     },
     "execution_count": 202,
     "metadata": {},
     "output_type": "execute_result"
    }
   ],
   "source": [
    "Dirty_cafe_sales.isna().sum()"
   ]
  },
  {
   "cell_type": "code",
   "execution_count": 204,
   "id": "65203866-9d42-4c01-8f11-3d56c79c8284",
   "metadata": {},
   "outputs": [
    {
     "data": {
      "text/html": [
       "<div>\n",
       "<style scoped>\n",
       "    .dataframe tbody tr th:only-of-type {\n",
       "        vertical-align: middle;\n",
       "    }\n",
       "\n",
       "    .dataframe tbody tr th {\n",
       "        vertical-align: top;\n",
       "    }\n",
       "\n",
       "    .dataframe thead th {\n",
       "        text-align: right;\n",
       "    }\n",
       "</style>\n",
       "<table border=\"1\" class=\"dataframe\">\n",
       "  <thead>\n",
       "    <tr style=\"text-align: right;\">\n",
       "      <th></th>\n",
       "      <th>Transaction ID</th>\n",
       "      <th>Item</th>\n",
       "      <th>Quantity</th>\n",
       "      <th>Price Per Unit</th>\n",
       "      <th>Total Spent</th>\n",
       "      <th>Payment Method</th>\n",
       "      <th>Location</th>\n",
       "      <th>Transaction Date</th>\n",
       "    </tr>\n",
       "  </thead>\n",
       "  <tbody>\n",
       "    <tr>\n",
       "      <th>0</th>\n",
       "      <td>TXN_1961373</td>\n",
       "      <td>Coffee</td>\n",
       "      <td>2</td>\n",
       "      <td>2.0</td>\n",
       "      <td>4.0</td>\n",
       "      <td>Credit Card</td>\n",
       "      <td>Takeaway</td>\n",
       "      <td>2023-09-08</td>\n",
       "    </tr>\n",
       "    <tr>\n",
       "      <th>1</th>\n",
       "      <td>TXN_4977031</td>\n",
       "      <td>Cake</td>\n",
       "      <td>4</td>\n",
       "      <td>3.0</td>\n",
       "      <td>12.0</td>\n",
       "      <td>Cash</td>\n",
       "      <td>In-store</td>\n",
       "      <td>2023-05-16</td>\n",
       "    </tr>\n",
       "    <tr>\n",
       "      <th>2</th>\n",
       "      <td>TXN_4271903</td>\n",
       "      <td>Cookie</td>\n",
       "      <td>4</td>\n",
       "      <td>1.0</td>\n",
       "      <td>ERROR</td>\n",
       "      <td>Credit Card</td>\n",
       "      <td>In-store</td>\n",
       "      <td>2023-07-19</td>\n",
       "    </tr>\n",
       "    <tr>\n",
       "      <th>3</th>\n",
       "      <td>TXN_7034554</td>\n",
       "      <td>Salad</td>\n",
       "      <td>2</td>\n",
       "      <td>5.0</td>\n",
       "      <td>10.0</td>\n",
       "      <td>UNKNOWN</td>\n",
       "      <td>UNKNOWN</td>\n",
       "      <td>2023-04-27</td>\n",
       "    </tr>\n",
       "    <tr>\n",
       "      <th>4</th>\n",
       "      <td>TXN_3160411</td>\n",
       "      <td>Coffee</td>\n",
       "      <td>2</td>\n",
       "      <td>2.0</td>\n",
       "      <td>4.0</td>\n",
       "      <td>Digital Wallet</td>\n",
       "      <td>In-store</td>\n",
       "      <td>2023-06-11</td>\n",
       "    </tr>\n",
       "    <tr>\n",
       "      <th>5</th>\n",
       "      <td>TXN_2602893</td>\n",
       "      <td>Smoothie</td>\n",
       "      <td>5</td>\n",
       "      <td>4.0</td>\n",
       "      <td>20.0</td>\n",
       "      <td>Credit Card</td>\n",
       "      <td>UNKNOWN</td>\n",
       "      <td>2023-03-31</td>\n",
       "    </tr>\n",
       "    <tr>\n",
       "      <th>6</th>\n",
       "      <td>TXN_4433211</td>\n",
       "      <td>UNKNOWN</td>\n",
       "      <td>3</td>\n",
       "      <td>3.0</td>\n",
       "      <td>9.0</td>\n",
       "      <td>UNKNOWN</td>\n",
       "      <td>Takeaway</td>\n",
       "      <td>2023-10-06</td>\n",
       "    </tr>\n",
       "    <tr>\n",
       "      <th>7</th>\n",
       "      <td>TXN_6699534</td>\n",
       "      <td>Sandwich</td>\n",
       "      <td>4</td>\n",
       "      <td>4.0</td>\n",
       "      <td>16.0</td>\n",
       "      <td>Cash</td>\n",
       "      <td>UNKNOWN</td>\n",
       "      <td>2023-10-28</td>\n",
       "    </tr>\n",
       "    <tr>\n",
       "      <th>8</th>\n",
       "      <td>TXN_4717867</td>\n",
       "      <td>UNKNOWN</td>\n",
       "      <td>5</td>\n",
       "      <td>3.0</td>\n",
       "      <td>15.0</td>\n",
       "      <td>UNKNOWN</td>\n",
       "      <td>Takeaway</td>\n",
       "      <td>2023-07-28</td>\n",
       "    </tr>\n",
       "    <tr>\n",
       "      <th>9</th>\n",
       "      <td>TXN_2064365</td>\n",
       "      <td>Sandwich</td>\n",
       "      <td>5</td>\n",
       "      <td>4.0</td>\n",
       "      <td>20.0</td>\n",
       "      <td>UNKNOWN</td>\n",
       "      <td>In-store</td>\n",
       "      <td>2023-12-31</td>\n",
       "    </tr>\n",
       "  </tbody>\n",
       "</table>\n",
       "</div>"
      ],
      "text/plain": [
       "  Transaction ID      Item Quantity Price Per Unit Total Spent  \\\n",
       "0    TXN_1961373    Coffee        2            2.0         4.0   \n",
       "1    TXN_4977031      Cake        4            3.0        12.0   \n",
       "2    TXN_4271903    Cookie        4            1.0       ERROR   \n",
       "3    TXN_7034554     Salad        2            5.0        10.0   \n",
       "4    TXN_3160411    Coffee        2            2.0         4.0   \n",
       "5    TXN_2602893  Smoothie        5            4.0        20.0   \n",
       "6    TXN_4433211   UNKNOWN        3            3.0         9.0   \n",
       "7    TXN_6699534  Sandwich        4            4.0        16.0   \n",
       "8    TXN_4717867   UNKNOWN        5            3.0        15.0   \n",
       "9    TXN_2064365  Sandwich        5            4.0        20.0   \n",
       "\n",
       "   Payment Method  Location Transaction Date  \n",
       "0     Credit Card  Takeaway       2023-09-08  \n",
       "1            Cash  In-store       2023-05-16  \n",
       "2     Credit Card  In-store       2023-07-19  \n",
       "3         UNKNOWN   UNKNOWN       2023-04-27  \n",
       "4  Digital Wallet  In-store       2023-06-11  \n",
       "5     Credit Card   UNKNOWN       2023-03-31  \n",
       "6         UNKNOWN  Takeaway       2023-10-06  \n",
       "7            Cash   UNKNOWN       2023-10-28  \n",
       "8         UNKNOWN  Takeaway       2023-07-28  \n",
       "9         UNKNOWN  In-store       2023-12-31  "
      ]
     },
     "execution_count": 204,
     "metadata": {},
     "output_type": "execute_result"
    }
   ],
   "source": [
    "Dirty_cafe_sales.head(10)"
   ]
  },
  {
   "cell_type": "code",
   "execution_count": 206,
   "id": "4dde7944-646e-4022-86cc-0c1915f491f8",
   "metadata": {},
   "outputs": [
    {
     "data": {
      "text/plain": [
       "Quantity\n",
       "5          1914\n",
       "2          1892\n",
       "4          1774\n",
       "3          1766\n",
       "1          1740\n",
       "UNKNOWN     160\n",
       "ERROR       159\n",
       "Name: count, dtype: int64"
      ]
     },
     "execution_count": 206,
     "metadata": {},
     "output_type": "execute_result"
    }
   ],
   "source": [
    "Dirty_cafe_sales[\"Quantity\"].value_counts()"
   ]
  },
  {
   "cell_type": "code",
   "execution_count": 208,
   "id": "55a3ccdc-241f-4167-8ee6-28327acc4182",
   "metadata": {},
   "outputs": [],
   "source": [
    "#Since there are more than on number columns (Quantity, price per unit etc), we can replace all the errors and unknow with zero simultaneously\n",
    "\n",
    "Dirty_cafe_sales[\"Quantity\"] = Dirty_cafe_sales[\"Quantity\"].replace({\"ERROR\":0, \"UNKNOWN\":0})\n",
    "Dirty_cafe_sales[\"Price Per Unit\"] = Dirty_cafe_sales[\"Price Per Unit\"].replace({\"ERROR\":0, \"UNKNOWN\":0})\n",
    "Dirty_cafe_sales[\"Total Spent\"] = Dirty_cafe_sales[\"Total Spent\"].replace({\"ERROR\":0, \"UNKNOWN\":0})"
   ]
  },
  {
   "cell_type": "code",
   "execution_count": 210,
   "id": "b54d07df-6b4f-4f43-b72f-5d6555515060",
   "metadata": {},
   "outputs": [
    {
     "data": {
      "text/plain": [
       "Quantity\n",
       "5    1914\n",
       "2    1892\n",
       "4    1774\n",
       "3    1766\n",
       "1    1740\n",
       "0     319\n",
       "Name: count, dtype: int64"
      ]
     },
     "execution_count": 210,
     "metadata": {},
     "output_type": "execute_result"
    }
   ],
   "source": [
    "#Checking\n",
    "Dirty_cafe_sales[\"Quantity\"].value_counts()"
   ]
  },
  {
   "cell_type": "code",
   "execution_count": 212,
   "id": "e0290093-9ed7-4729-af9c-26b0d08a5baf",
   "metadata": {},
   "outputs": [],
   "source": [
    "# Recall the number values were all stored as an object. We need to convert then to numerical values. Thus:\n",
    "# NB: The \"error = coerce\" is used to ensure that puthon does not find it hard to convert the null values into numerical values.\n",
    "\n",
    "Dirty_cafe_sales[\"Quantity\"] = pd.to_numeric(Dirty_cafe_sales[\"Quantity\"], errors = \"coerce\")\n",
    "Dirty_cafe_sales[\"Price Per Unit\"] = pd.to_numeric(Dirty_cafe_sales[\"Price Per Unit\"], errors = \"coerce\")\n",
    "Dirty_cafe_sales[\"Total Spent\"] = pd.to_numeric(Dirty_cafe_sales[\"Total Spent\"], errors = \"coerce\")"
   ]
  },
  {
   "cell_type": "code",
   "execution_count": 214,
   "id": "06d1e14e-97bd-47ef-8c52-672e66f6f7cb",
   "metadata": {},
   "outputs": [
    {
     "name": "stdout",
     "output_type": "stream",
     "text": [
      "<class 'pandas.core.frame.DataFrame'>\n",
      "Index: 9540 entries, 0 to 9999\n",
      "Data columns (total 8 columns):\n",
      " #   Column            Non-Null Count  Dtype         \n",
      "---  ------            --------------  -----         \n",
      " 0   Transaction ID    9540 non-null   object        \n",
      " 1   Item              9540 non-null   object        \n",
      " 2   Quantity          9405 non-null   float64       \n",
      " 3   Price Per Unit    9375 non-null   float64       \n",
      " 4   Total Spent       9383 non-null   float64       \n",
      " 5   Payment Method    9540 non-null   object        \n",
      " 6   Location          9540 non-null   object        \n",
      " 7   Transaction Date  9540 non-null   datetime64[ns]\n",
      "dtypes: datetime64[ns](1), float64(3), object(4)\n",
      "memory usage: 670.8+ KB\n"
     ]
    }
   ],
   "source": [
    "## Checking the whole dataset now\n",
    "\n",
    "Dirty_cafe_sales.info()"
   ]
  },
  {
   "cell_type": "raw",
   "id": "a95c5536-7f5f-4415-9fe4-b6128dc8b557",
   "metadata": {},
   "source": [
    "It can be seen from above that there are still null values in the numerical columns like \"Total spent\" etc.\n"
   ]
  },
  {
   "cell_type": "code",
   "execution_count": 216,
   "id": "317da180-974d-450b-9983-5fff3d1b5fd4",
   "metadata": {},
   "outputs": [],
   "source": [
    "## From my intution, I don't want to just fill my null values in the numerical columns with zeros. I feel I should fill with the mean of the column\n",
    "#Recall means is calculated as \"dataset_name[\"column_name\"].mean()\"\n",
    "\n",
    "Dirty_cafe_sales[\"Quantity\"] = Dirty_cafe_sales[\"Quantity\"].fillna(Dirty_cafe_sales[\"Quantity\"].mean())\n",
    "Dirty_cafe_sales[\"Price Per Unit\"] = Dirty_cafe_sales[\"Price Per Unit\"].fillna(Dirty_cafe_sales[\"Price Per Unit\"].mean())\n",
    "Dirty_cafe_sales[\"Total Spent\"] = Dirty_cafe_sales[\"Total Spent\"].fillna(Dirty_cafe_sales[\"Total Spent\"].mean())"
   ]
  },
  {
   "cell_type": "code",
   "execution_count": 218,
   "id": "4ab0d005-63f0-41ef-96c9-ae473696833f",
   "metadata": {},
   "outputs": [
    {
     "data": {
      "text/plain": [
       "Transaction ID      0\n",
       "Item                0\n",
       "Quantity            0\n",
       "Price Per Unit      0\n",
       "Total Spent         0\n",
       "Payment Method      0\n",
       "Location            0\n",
       "Transaction Date    0\n",
       "dtype: int64"
      ]
     },
     "execution_count": 218,
     "metadata": {},
     "output_type": "execute_result"
    }
   ],
   "source": [
    "# Checking for all null values\n",
    "Dirty_cafe_sales.isna().sum()"
   ]
  },
  {
   "cell_type": "raw",
   "id": "e5a6ff3a-fc81-431c-b1a6-5e896793dc66",
   "metadata": {},
   "source": [
    "Thus, no null value present in the dataset!"
   ]
  },
  {
   "cell_type": "code",
   "execution_count": 220,
   "id": "464a4903-9150-4fe8-b21c-431097b6d551",
   "metadata": {},
   "outputs": [
    {
     "data": {
      "text/plain": [
       "0"
      ]
     },
     "execution_count": 220,
     "metadata": {},
     "output_type": "execute_result"
    }
   ],
   "source": [
    "# Checking for duplicate values\n",
    "Dirty_cafe_sales.duplicated().sum()"
   ]
  },
  {
   "cell_type": "code",
   "execution_count": 222,
   "id": "c9856e2b-0a68-4378-8072-e6eafd47b95c",
   "metadata": {},
   "outputs": [
    {
     "name": "stdout",
     "output_type": "stream",
     "text": [
      "<class 'pandas.core.frame.DataFrame'>\n",
      "Index: 9540 entries, 0 to 9999\n",
      "Data columns (total 8 columns):\n",
      " #   Column            Non-Null Count  Dtype         \n",
      "---  ------            --------------  -----         \n",
      " 0   Transaction ID    9540 non-null   object        \n",
      " 1   Item              9540 non-null   object        \n",
      " 2   Quantity          9540 non-null   float64       \n",
      " 3   Price Per Unit    9540 non-null   float64       \n",
      " 4   Total Spent       9540 non-null   float64       \n",
      " 5   Payment Method    9540 non-null   object        \n",
      " 6   Location          9540 non-null   object        \n",
      " 7   Transaction Date  9540 non-null   datetime64[ns]\n",
      "dtypes: datetime64[ns](1), float64(3), object(4)\n",
      "memory usage: 670.8+ KB\n"
     ]
    }
   ],
   "source": [
    "Dirty_cafe_sales.info()"
   ]
  },
  {
   "cell_type": "raw",
   "id": "35f0f7ed-c91c-4df8-959f-cbaabf8c09e5",
   "metadata": {},
   "source": [
    "Thus, the dataset is clear"
   ]
  },
  {
   "cell_type": "code",
   "execution_count": 228,
   "id": "17354cf5-0861-40b7-855e-a468ae5ebfde",
   "metadata": {},
   "outputs": [],
   "source": [
    "Dirty_cafe_sales.to_csv(\"Cleaned_Cafe_sales\", index = False)"
   ]
  },
  {
   "cell_type": "code",
   "execution_count": null,
   "id": "40d074c2-6ba3-4fa5-833b-26a4cf2f1256",
   "metadata": {},
   "outputs": [],
   "source": []
  },
  {
   "cell_type": "code",
   "execution_count": null,
   "id": "ab57b7b5-f5c3-4d57-bf90-f91ce76f0522",
   "metadata": {},
   "outputs": [],
   "source": []
  }
 ],
 "metadata": {
  "kernelspec": {
   "display_name": "Python [conda env:base] *",
   "language": "python",
   "name": "conda-base-py"
  },
  "language_info": {
   "codemirror_mode": {
    "name": "ipython",
    "version": 3
   },
   "file_extension": ".py",
   "mimetype": "text/x-python",
   "name": "python",
   "nbconvert_exporter": "python",
   "pygments_lexer": "ipython3",
   "version": "3.12.7"
  }
 },
 "nbformat": 4,
 "nbformat_minor": 5
}
